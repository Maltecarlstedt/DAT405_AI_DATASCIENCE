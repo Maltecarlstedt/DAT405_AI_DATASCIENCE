{
 "cells": [
  {
   "cell_type": "markdown",
   "metadata": {},
   "source": [
    "$\\qquad$ $\\qquad$$\\qquad$  **DAT405 Introduction to Data Science and AI, 2019-2020, Reading Period 3** <br />\n",
    "$\\qquad$ $\\qquad$$\\qquad$                   **Assignment 5: Reinforcement learning and Classification 2** <br />\n",
    "$\\qquad$ $\\qquad$$\\qquad$                   **Grader: Newton** <br />\n",
    "$\\qquad$ $\\qquad$$\\qquad$                     **Due Date: 23rd February, 23:59** <br />\n",
    "$\\qquad$ $\\qquad$$\\qquad$                   **Submitted by: Name, Personal No., Email** <br />\n",
    "\n",
    "\n",
    "---\n",
    "\n",
    "\n",
    "General guidelines:\n",
    "*   All solutions to theoretical and pratical problems must be submitted in this ipynb notebook, and equations wherever required, should be formatted using LaTeX math-mode.\n",
    "*   All discussion regarding practical problems, along with solutions and plots should be specified in this notebook. All plots/results should be visible such that the notebook do not have to be run. But the code in the notebook should reproduce the plots/results if we choose to do so.\n",
    "*   Your name, personal number and email address should be specified above.\n",
    "*   All tables and other additional information should be included in this notebook.\n",
    "*   Before submitting, make sure that your code can run on another computer. That all plots can show on another computer including all your writing. It is good to check if your code can run here: https://colab.research.google.com.\n"
   ]
  },
  {
   "cell_type": "markdown",
   "metadata": {},
   "source": [
    "Self-check \n",
    "1. Have you answered all questions to the best of your ability? \n",
    "2. Anything else you can easily check? (details, terminology, arguments, commenting for code etc.?) \n",
    "\n",
    "Grading will be based on a qualitative assessment of each assignment. It is important to:\n",
    "*\tPresent clear arguments\n",
    "*\tPresent the results in a pedagogical way\n",
    "*\tShow understanding of the topics (e.g, write a pseudocode) \n",
    "*\tGive correct solutions\n",
    "*\tMake sure that the code is well commented \n",
    "\n",
    "**Again, as mentioned in general guidelines, all code should be written here. And this same ipython notebook file (RLAssignment.ipynb) should be submitted with answers and code written in it. NO SEPERATE FILE SHALL BE ACCEPTED.** \n"
   ]
  },
  {
   "cell_type": "markdown",
   "metadata": {},
   "source": [
    "# Primer\n",
    "\n",
    "## Decision Making\n",
    "The problem of **decision making under uncertainty** (commonly known as **reinforcement learning**) can be broken down into\n",
    "two parts. First, how do we learn about the world? This involves both the\n",
    "problem of modeling our initial uncertainty about the world, and that of drawing conclusions from evidence and our initial belief. Secondly, given what we\n",
    "currently know about the world, how should we decide what to do, taking into\n",
    "account future events and observations that may change our conclusions?\n",
    "Typically, this will involve creating long-term plans covering possible future\n",
    "eventualities. That is, when planning under uncertainty, we also need to take\n",
    "into account what possible future knowledge could be generated when implementing our plans. Intuitively, executing plans which involve trying out new\n",
    "things should give more information, but it is hard to tell whether this information will be beneficial. The choice between doing something which is already\n",
    "known to produce good results and experiment with something new is known\n",
    "as the **exploration-exploitation dilemma**.\n",
    "\n",
    "## The exploration-exploitation trade-off\n",
    "\n",
    "Consider the problem of selecting a restaurant to go to during a vacation.Lets say the\n",
    "best restaurant you have found so far was **Les Epinards**. The food there is\n",
    "usually to your taste and satisfactory. However, a well-known recommendations\n",
    "website suggests that **King’s Arm** is really good! It is tempting to try it out. But\n",
    "there is a risk involved. It may turn out to be much worse than **Les Epinards**,\n",
    "in which case you will regret going there. On the other hand, it could also be\n",
    "much better. What should you do?\n",
    "It all depends on how much information you have about either restaurant,\n",
    "and how many more days you’ll stay in town. If this is your last day, then it’s\n",
    "probably a better idea to go to **Les Epinards**, unless you are expecting **King’s\n",
    "Arm** to be significantly better. However, if you are going to stay there longer,\n",
    "trying out **King’s Arm** is a good bet. If you are lucky, you will be getting much\n",
    "better food for the remaining time, while otherwise you will have missed only\n",
    "one good meal out of many, making the potential risk quite small."
   ]
  },
  {
   "cell_type": "markdown",
   "metadata": {},
   "source": [
    "## Overview\n",
    "* To make things concrete, we will first focus on decision making under **no** uncertainity, i.e, given we have a world model, we can calculate the exact and optimal actions to take in it. We shall first introduce **Markov Decision Process (MDP)** as the world model. Then we give one algorithm (out of many) to solve it.\n",
    "\n",
    "\n",
    "* Next, we will work through one type of reinforcement learning algorithm called Q-learning. Q-learning is an algorithm for making decisions under uncertainity, where uncertainity is over the possible world model (here MDP). It will find the optimal policy for the **unknown** MDP, assuming we do infinite exploration."
   ]
  },
  {
   "cell_type": "markdown",
   "metadata": {},
   "source": [
    "## Markov Decision Process"
   ]
  },
  {
   "cell_type": "markdown",
   "metadata": {},
   "source": [
    "Markov Decision Process (MDP) provides a mathematical framework for modeling decision-making. It is a discrete time (distinct points in time) stochastic (randomly determined) process.\n",
    "\n",
    "MDPs are made up of 4 parts:  \n",
    "S: Finite set of states (Ex: s<sub>1</sub>, s<sub>2</sub> ... s<sub>N</sub>)  \n",
    "A: Finite set of actions (Ex: North, South, East, West)  \n",
    "P<sub>a</sub>(s,s'): Probability that action *a* in state *s* at time *t* will lead to state *s'* at time *t + 1*  \n",
    "R<sub>a</sub>(s,s'): Immediate reward received after moving from state *s* to state *s'* by action *a*\n",
    "\n",
    "An agent acts in an MDP at time *t*, by taking certain action *a* in state *s*, going to state *s'*, and getting a reward *r* from the world. It then repeats the process for certain no. of times, either finite or infinite.\n",
    "\n",
    "We also include a $5^{th}$ part in the description of an MDP called Gamma $\\gamma$.  \n",
    "$\\gamma$: The discount factor between 0 (inclusive) and 1 (exclusive). This determines how much credit you want to give to the future. If you think that the future reward is as important as the current reward you would set this to 0.99999. If you don't care about the future rewards you would set this to 0 and you only care about the current reward. For example, if your discount factor is 0.8 and after 5 steps you get a reward of 4 the present value of that reward is $0.8^4 * 5$ or ~2.\n",
    "\n",
    "An MDP is a collection of states such that each state has a selection of actions associated with them. With each state-action pair comes a reward *r* (can be 0). Define a policy function: $\\pi: s \\rightarrow a$, which tells which action to take at each state.\n",
    "  \n",
    "We now use the famous dynamic programming equation, also known as Bellman Equation, to define optimality in an MDP. The following equation defines what we call the **value function** of state *s* following some fixed policy $\\pi$:  \n",
    "\n",
    "$$V^\\pi(s) = \\sum_{s'} P_{\\pi(s)}(s,s') [R_{\\pi(s)}(s,s') + \\gamma V^\\pi(s')]$$\n",
    "\n",
    "We call $V^\\pi$ as the value of policy $\\pi$.  \n",
    "  \n",
    "Now, to find the **optimal** policy you will need to find the action that gives the highest reward.  \n",
    "\n",
    "$$V^*(s) = max_a \\sum_{s'} P_a(s,s') [R_a(s,s') + \\gamma V^*(s')]$$\n",
    "\n",
    "A real world example would be an inventory control system. Your states would be the amount of items you have in stock. Your actions would be the amount to order. The discrete time would be the days of the month. The reward would be the profit.  \n",
    "\n",
    "A major drawback of MDPs is called the \"Curse of Dimensionality\". This states that the more states/actions you have the more computational difficult it is to solve.   \n"
   ]
  },
  {
   "cell_type": "markdown",
   "metadata": {},
   "source": [
    "## Question 1 (2 points)"
   ]
  },
  {
   "cell_type": "markdown",
   "metadata": {},
   "source": [
    "For the first question of the notebook, we give a quick example of an MDP. We would to see if you can put the definitions above into practice.\n",
    "\n",
    "**Question a**: Given the following deterministic MDP (you select North, you move North), what is the optimal policy (path with the most points)?\n",
    "  \n",
    "*Notes*:  \n",
    "  * The number in the box is the reward.  \n",
    "  * Once you hit the end you are done. (Absorbing state)\n",
    "  * S is the starting point.  \n",
    "  * F is the ending point.  \n",
    "  * Use N for North, E for East, S for South, and W for West. Not all actions are available at each state, for example, you can't choose N and W at starting state, as there exists no valid next states in those directions.  \n",
    "  * Pass the directions as a single string. Ex: ESWN will make a circle.  \n",
    "  \n",
    "\n",
    "\n",
    "| | | |\n",
    "|----------|----------|---------|\n",
    "|S|1|1|\n",
    "|1 |0|1|  \n",
    "|-1|-1|0|  \n",
    "|0 |0|F|"
   ]
  },
  {
   "cell_type": "markdown",
   "metadata": {},
   "source": [
    "Question b,c will attempt to firm up your knowledge of the parts of an MDP. Just remember that for a state denoted by (x,y), state N/E/S/W to that are (x,y-1),(x+1,y),(x,y+1),(x-1,y) respectively. We take (0,0) as the starting state S.\n",
    "\n",
    "**Question b:** What is the probability of going from state (1,0) to state (2,0) using action E ? ( i.e,  $P_E((1,0),(2,0))$ )\n",
    "\n",
    "**Question c:** What is the reward for moving from state (1,0) to state (2,0) ? ( i.e, $R_E((1,0),(2,0))$ )"
   ]
  },
  {
   "cell_type": "markdown",
   "metadata": {},
   "source": [
    "## Answers Question 1"
   ]
  },
  {
   "cell_type": "markdown",
   "metadata": {},
   "source": [
    "### 1 A) \n",
    "\n",
    "Optimal policy : __SENESSS__ \n",
    "\n",
    "This gives $V^*(s)= 4$. Which is our path with the most points. We could start moving back and forth for an example state (0,1) and (0,2) before moving to F. This would however increase the total number of actions until the ending point. For that reason we decided to follow the following path: \n",
    "\n",
    "__Start S to End F:__\n",
    "<br>\n",
    "(0,0): S, V*(s) = 0\n",
    "<br>\n",
    "(0,0): action -> S, V*(s) = 0 + 1\n",
    "<br>\n",
    "(1,0): action -> E, V*(s) = 1 + 0\n",
    "<br>\n",
    "(1,1): action -> N, V*(s) = 1 + 1\n",
    "<br>\n",
    "(0,1): action -> E, V*(s) = 2 + 1\n",
    "<br>\n",
    "(0,2): action -> S, V*(S) = 3 + 1\n",
    "<br>\n",
    "(1,2): action -> S, V*(S) = 4 + 0\n",
    "<br>\n",
    "(2,2): action -> S\n",
    "<br>\n",
    "(3,2): F\n",
    "\n",
    "\n",
    "As according to the optimal policy equation where we want to always choose the action which gives the highest reward. In our case $P_a=1$ since MDP is defined as deterministic.\n",
    "\n",
    "$V^*(s) = max_a \\sum_{s'} P_a(s,s') [R_a(s,s') + \\gamma V^*(s')]$\n",
    "\n",
    "#### We get $V^*(s)= 4$\n",
    "\n",
    "***"
   ]
  },
  {
   "cell_type": "markdown",
   "metadata": {},
   "source": [
    "### 1 B) \n",
    "\n",
    "The probability of going from state (1,0) to state (2,0) using action E is 100%. Action E is defined by having precondition (x,y) and postcondition (x+1,y), which can be translated into moving one step to the right in our MDP. If you use E when current state is (1,0) the current state will become (2,0).\n",
    "<br> \n",
    "\n",
    "$\\implies P_E((1,0),(2,0)) = 1 $\n",
    "\n",
    "***"
   ]
  },
  {
   "cell_type": "markdown",
   "metadata": {},
   "source": [
    "## 1 C)\n",
    "\n",
    "The reward can be read from the MDP. When an action is made the reward given is whatever value is in the state it moves immediately after the action. And since the value 1 is in state (2,0) the answer is 1.\n",
    "\n",
    "$\\implies R_E((1,0),(2,0))=1$\n",
    "\n",
    "***"
   ]
  },
  {
   "cell_type": "markdown",
   "metadata": {},
   "source": [
    "## Value Iteration"
   ]
  },
  {
   "cell_type": "markdown",
   "metadata": {},
   "source": [
    "The value iteration is one algorithm that can be used to find the optimal policy ($\\pi^*$). Note that for any policy $\\pi^*$ to be optimal, it must satisfy the Bellman equation for optimal value function $V^*$. For any candidate $V^*$, it must be such that plugging it in the RHS (right-hand-side) of Bellman equation should give the same $V^*$ again (by the recursive nature of this equation). This property will form the basis of our algorithm. Essentially, due to certain mathematical results, repeated application of RHS to any intial value function $V^0(s)$ will eventually lead to the value $V$ which statifies the Bellman equation. Hence repeated application of Bellman equation for optimal value function will also lead to optimal value function, we can then extract the optimal actions by simply noting the actions that satisfy the equation.    \n",
    "\n",
    "The value function is based on the Bellman Equation for optimal value, which we recall here:  \n",
    "$$V^*(s) = max_a \\sum_{s'} P_a(s,s') [R_a(s,s') + \\gamma V^*(s')]$$"
   ]
  },
  {
   "cell_type": "markdown",
   "metadata": {},
   "source": [
    "Example: Below is a 3x3 grid. We are going to walk through a few iterations to firm up your understanding. Lets assume this time that success of taking any action is 0.8. Meaning if we take E from a valid state (x,y), we will go (x+1,y) 0.8 percent of time, but remain in same state the remaining time. We will have a discount factor ($\\gamma$) of 0.9. Assume $V^0(s')=0$ for all s'. \n",
    "\n",
    "| | | |  \n",
    "|----------|----------|---------|  \n",
    "|0|0|0|\n",
    "|0|10|0|  \n",
    "|0|0|0|  \n",
    "\n",
    "\n",
    "**Iteration 1**: It is trivial, V(s) becomes the $max_a \\sum_{s'} P_a(s,s') R_a(s,s')$ since $V^0$ was zero for s'.\n",
    "\n",
    "| | | |  \n",
    "|----------|----------|---------|  \n",
    "|0|8|0|\n",
    "|8|2|8|  \n",
    "|0|8|0|  \n",
    "  \n",
    "**Iteration 2**:  \n",
    "  \n",
    "Staring with cell (0,0): We find the expected value of each move:  \n",
    "Action N: 0  \n",
    "Action E: 0.8( 0 + 0.9 \\* 8) + 0.2(0 + 0.9 \\* 0) = 5.76  \n",
    "Action S: 0.8( 0 + 0.9 \\* 8) + 0.2(0 + 0.9 \\* 0) = 5.76  \n",
    "Action W: 0\n",
    "\n",
    "Hence any action between E and S would have been best at this stage.\n",
    "\n",
    "Similarly for cell (1,0):\n",
    "\n",
    "Action S: 0.8( 10 + 0.9 \\* 2) + 0.2(0 + 0.9 \\* 8) = 10.88 (Action S is the maximizing action)  \n",
    "\n",
    "Similar calculations for remaining cells give us:\n",
    "\n",
    "| | | |  \n",
    "|----------|----------|---------|  \n",
    "|5.76|10.88|5.76|\n",
    "|10.88|8.12|10.88|  \n",
    "|5.76|10.88|5.76|  \n"
   ]
  },
  {
   "cell_type": "markdown",
   "metadata": {},
   "source": [
    "## Question 2 (4 points)\n",
    "Please code the value iteration algorithm just described here, and show the optimal value function of the above 3x3 grid problem at convergence."
   ]
  },
  {
   "cell_type": "markdown",
   "metadata": {},
   "source": [
    "### Answer to question 2 "
   ]
  },
  {
   "cell_type": "code",
   "execution_count": 8,
   "metadata": {},
   "outputs": [
    {
     "name": "stdout",
     "output_type": "stream",
     "text": [
      "[[45.6, 51.93, 45.6], [51.93, 48.03, 51.93], [45.6, 51.93, 45.6]]\n"
     ]
    }
   ],
   "source": [
    "from copy import deepcopy\n",
    "\n",
    "#code implementation of the value iteration algoritm\n",
    "\n",
    "\n",
    "#Create 3x3 grid with initilized values\n",
    "vgrid = [[0,0,0],[0,0,0],[0,0,0]]\n",
    "rgrid =[[0,0,0],[0,10,0],[0,0,0]]\n",
    "\n",
    "#function to get every possible action from current state. Returns possible actions\n",
    "def GetPossibleAction(row, col):\n",
    "    actions = [\"S\",\"E\",\"N\",\"W\"] #all actions\n",
    "    if row == 0:\n",
    "        actions.remove(\"N\")\n",
    "    if row == 2:\n",
    "        actions.remove(\"S\")\n",
    "    if col ==  0:\n",
    "        actions.remove(\"W\")\n",
    "    if col == 2:\n",
    "        actions.remove(\"E\")\n",
    "    return actions\n",
    "\n",
    "\n",
    "#function for one iteration of the values of the grid. Returns next grid\n",
    "def Iterate(vgrid,rgrid, p, gamma):\n",
    "    gridcopy = [[0 for i in range(len(vgrid)) ] for j in range(len(vgrid[0]))]\n",
    "    for rows in range(len(vgrid)):\n",
    "        for columns in range(len(vgrid[0])):\n",
    "            points = [0,0,0,0]\n",
    "            for a in GetPossibleAction(rows,columns):\n",
    "                if a == \"S\":\n",
    "                    points[0]=p*(rgrid[rows+1][columns] + gamma*vgrid[rows+1][columns])+(1-p)*(rgrid[rows][columns] + gamma*vgrid[rows][columns])\n",
    "                if a == \"E\":\n",
    "                    points[1]=p*(rgrid[rows][columns+1] + gamma*vgrid[rows][columns+1])+(1-p)*(rgrid[rows][columns] + gamma*vgrid[rows][columns])\n",
    "                if a == \"N\":\n",
    "                    points[2]=p*(rgrid[rows-1][columns] + gamma*vgrid[rows-1][columns])+(1-p)*(rgrid[rows][columns] + gamma*vgrid[rows][columns])\n",
    "                if a == \"W\":\n",
    "                    points[3]=p*(rgrid[rows][columns-1] + gamma*vgrid[rows][columns-1])+(1-p)*(rgrid[rows][columns] + gamma*vgrid[rows][columns])\n",
    "            gridcopy[rows][columns]=round(max(points),2)\n",
    "    vgrid = deepcopy(gridcopy)\n",
    "    return vgrid\n",
    "\n",
    "\n",
    "#function for iterating until the differene between state and next state becomes smaller than value epsilon. Returns optimal value function at convergence\n",
    "def OptimalValue(vgrid,rgrid, eps):\n",
    "    done = False\n",
    "    while not done:\n",
    "        prev_vgrid=deepcopy(vgrid)\n",
    "        vgrid = deepcopy(Iterate(vgrid,rgrid,0.8,0.9)) \n",
    "        delta = []\n",
    "        #check change of values for every state\n",
    "        for rows in range(len(vgrid)):\n",
    "            for columns in range(len(vgrid[0])):\n",
    "                delta.append(abs(vgrid[rows][columns]-prev_vgrid[rows][columns]))\n",
    "        if all(ele < eps for ele in delta): #we define that the value grid has converged when its change each iteration is less than eps\n",
    "            done = True\n",
    "    return vgrid\n",
    "\n",
    "print(OptimalValue(vgrid,rgrid,0.0001))\n"
   ]
  },
  {
   "cell_type": "markdown",
   "metadata": {},
   "source": [
    "### Question 2 reason\n",
    "\n",
    "When running the above code we get: \n",
    "\n",
    "[[45.6, 51.93, 45.6], [51.93, 48.03, 51.93], [45.6, 51.93, 45.6]]"
   ]
  },
  {
   "cell_type": "markdown",
   "metadata": {},
   "source": [
    "## Reinforcement Learning (RL)\n",
    "Until now, we understood that knowing the MDP, specifically $P_a(s,s')$ and $R_a(s,s')$ allows us to efficiently find the optimal policy using value iteration algorithm, but RL or decision making under uncertainity arises from the question of making optimal decisions without knowing the true world model (MDP in this case).\n",
    "\n",
    "So far we have defined the value of a state $V^\\pi$, let us define the value of an action, $Q^\\pi$:\n",
    "\n",
    "$$Q^\\pi(s,a) = \\sum_{s'} P_a(s,s') [R_a(s,s') + \\gamma V^\\pi(s')]$$\n",
    "\n",
    "i.e, the value of taking action *a* from state *s* and then following $\\pi$ onwards. Similarly, the optimal Q-value equation is:\n",
    "\n",
    "$$Q^*(s,a) = \\sum_{s'} P_a(s,s') [R_a(s,s') + \\gamma V^*(s')]$$\n",
    "\n",
    "## Q-learning\n",
    "\n",
    "Q-learning algorithm can be used by an agent unaware of its surroundings (unknown MDP). All it can do is take an action *a* at time *t* from state *s* and observe the reward *r* and next state *s'*, and repeat this process again. So how it can learn to act optimally under such uninformative conditions ? Answer is using Q-learning. Without going into its justification, we simply state the main-update rule of this algorithm below:\n",
    "\n",
    "![alt text](https://chalmersuniversity.box.com/shared/static/5anbos4s9luoayb32jk6w3wy3w4jk3g3.png)\n",
    "\n",
    "Where we simply maintain Q(s,a) value for each state-action pair in a table. It is proven to converge to the optimal policy of the underlying unknown MDP for certain values of learning rate $\\alpha$. For our case, we set a constant $\\alpha=0.1$.\n",
    "\n",
    "## OpenAI Gym\n",
    "\n",
    "We shall use already available simulators for different environments (world) using the popular OpenAI Gym library. It just implements [differnt types of simulators](https://gym.openai.com/) including ATARI games. Although here we will only focus on simple ones, such as [Chain enviroment](https://gym.openai.com/envs/NChain-v0/).\n",
    "![alt text](https://chalmersuniversity.box.com/shared/static/6tthbzhpofq9gzlowhr3w8if0xvyxb2b.jpg)\n",
    "\n",
    "## Question 3 (1 point)\n",
    "Basically, there are 5 states, and two actions 'a' and 'b'. Each transition (s,a,s') is noted with its corresponding reward. You are to first familiarize with the framework using its [documentation](http://gym.openai.com/docs/), and then implement the Q-learning algorithm for the Chain enviroment (called 'NChain-v0') using default parameters. Finally print the $Q^*$ table at convergence. Take $\\gamma=0.95$. You can refer to the Q-learning Jupyter notebook shown in class, uploaded on Canvas.\n",
    "\n",
    "\n"
   ]
  },
  {
   "cell_type": "markdown",
   "metadata": {},
   "source": [
    "### Answer for question 3"
   ]
  },
  {
   "cell_type": "code",
   "execution_count": 11,
   "metadata": {},
   "outputs": [
    {
     "name": "stderr",
     "output_type": "stream",
     "text": [
      "[2022-02-21 14:12:15,773] Making new env: NChain-v0\n"
     ]
    }
   ],
   "source": [
    "import gym\n",
    "import numpy as np\n",
    "import random\n",
    "import math\n",
    "from copy import deepcopy\n",
    "\n",
    "env = gym.make('NChain-v0')\n",
    "\n",
    "#parameters in Q-learning algorithm\n",
    "num_episodes = 1000 #10000\n",
    "gamma = 0.95 #given\n",
    "learning_rate = 0.1 #given\n",
    "epsilon = 0.3#1 #0.15 #0.1\n",
    "\n",
    "# initialize the Q table\n",
    "Q = np.zeros([5, 2]) #5 states and 2 actions\n",
    "\n",
    "#train q-table\n",
    "for _ in range(num_episodes):\n",
    "        state = env.reset()\n",
    "        done = False\n",
    "        while done == False:\n",
    "            # First we select an action:\n",
    "            if random.uniform(0, 1) < epsilon: # Flip a skewed coin\n",
    "                action = env.action_space.sample() # Explore action space\n",
    "            else:\n",
    "                action = np.argmax(Q[state,:]) # Exploit learned values\n",
    "            # Then we perform the action and receive the feedback from the environment\n",
    "            new_state, reward, done, info = env.step(action)\n",
    "            # Finally we learn from the experience by updating the Q-value of the selected action\n",
    "            update = reward + (gamma*np.max(Q[new_state,:])) - Q[state, action]\n",
    "            Q[state,action] += learning_rate*update \n",
    "            state = new_state\n",
    "        #for printing q tables, uncomment this\n",
    "        #if _ > num_episodes-10 or _ < 10:\n",
    "            #print(_)\n",
    "            #print(\"------------------------\")\n",
    "            #print(Q)\n",
    "\n",
    "\n",
    "\n"
   ]
  },
  {
   "cell_type": "markdown",
   "metadata": {},
   "source": [
    "### Question 3 reasoning\n",
    "\n",
    "When running the algorithm no convergance value seemed to be found. We tried comparing the difference between each value in every state to see if it ever fell below a certain constant. Running the algorithm with num_episodes = 10000 showed that the value never fell below a certain value. Instead we chose to display some episodes and found that the values seem to stabilize and give us an convergance interval. By only showing the last values in a 1000 or 10000 long episode we could see that the matrices were about the same. Giving us the conclusion that we have a convergance interval between ~50 to ~70. This can be seen in the txt file: RLAssignment-output-q3.txt. Where we have printed the first 10 values and the last 10 values. The 10000th episode looks like: \n",
    "\n",
    "[[57.81672669 57.75997229]\n",
    "<br>\n",
    " [60.92570641 59.15988917]\n",
    " <br>\n",
    " [64.52000092 60.43097639]\n",
    " <br>\n",
    " [69.65526107 59.46071556]\n",
    " <br>\n",
    " [78.19996741 61.44933138]]\n",
    "\n",
    "***\n",
    "\n"
   ]
  },
  {
   "cell_type": "markdown",
   "metadata": {},
   "source": [
    "## Question 4 (2 points)\n",
    "\n",
    "a. Verify that the optimal $Q^*$ value obtained using Q-learning is same as the optimal value function $V^*$ for the corresponding MDP's optimal action. You would have to first define the MDP corresponding to Chain enviroment.\n",
    "\n",
    "b. What is the importance of exploration in RL ? Explain with an example."
   ]
  },
  {
   "cell_type": "code",
   "execution_count": 15,
   "metadata": {},
   "outputs": [
    {
     "name": "stdout",
     "output_type": "stream",
     "text": [
      "[163.58, 173.82, 185.26, 197.45, 199.91]\n"
     ]
    }
   ],
   "source": [
    "#find optimal value function V\n",
    "\n",
    "from copy import deepcopy\n",
    "\n",
    "\n",
    "vgrid = [0,0,0,0,0] #Should be 0 for all states before first iteration\n",
    "rgrid =[2,0,0,0,10] #rewards for states in chain environment\n",
    "\n",
    "actions = [\"a\",\"b\"] #all actions are possible in every state\n",
    "\n",
    "\n",
    "\n",
    "#function for one iteration of the values of the grid. Returns next grid\n",
    "def Iterate(vgrid,rgrid, p, gamma):\n",
    "    gridcopy = [0 for i in range(len(vgrid))]\n",
    "    for state in range(len(vgrid)):\n",
    "        points = [0]*len(actions)\n",
    "        for a in actions:\n",
    "            if a == \"a\":\n",
    "                if state == len(vgrid)-1:\n",
    "                    points[0]=p*(rgrid[state] + gamma*vgrid[state])+(1-p)*(rgrid[state] + gamma*vgrid[state])\n",
    "                else:\n",
    "                    points[0]=p*(rgrid[state+1] + gamma*vgrid[state+1])+(1-p)*(rgrid[state] + gamma*vgrid[state])\n",
    "            if a == \"b\":\n",
    "                points[1]=p*(rgrid[0] + gamma*vgrid[0])+(1-p)*(rgrid[state] + gamma*vgrid[state])\n",
    "        gridcopy[state]=round(max(points),2)\n",
    "    vgrid = deepcopy(gridcopy)\n",
    "    return vgrid\n",
    "\n",
    "\n",
    "#function for iterating until the differene between state and next state becomes smaller than value epsilon. Returns optimal value function at convergence\n",
    "def optimalValue(vgrid,rgrid, eps):\n",
    "    done = False\n",
    "    while not done:\n",
    "        prev_vgrid=deepcopy(vgrid)\n",
    "        vgrid = deepcopy(Iterate(vgrid,rgrid,0.8,0.95)) #we assume probability 1 since nothing is mentioned about the probability. We assume gamma = 0.95 since it was 0.95 in Q3\n",
    "        #print(vgrid)\n",
    "        delta = []\n",
    "        #check change of values for every state\n",
    "        for state in range(len(vgrid)):\n",
    "            delta.append(abs(vgrid[state]-prev_vgrid[state]))\n",
    "        if all(ele < eps for ele in delta): #we define that the value grid has converged when its change each iteration is less than eps\n",
    "            done = True\n",
    "    return vgrid\n",
    "\n",
    "\n",
    "print(optimalValue(vgrid,rgrid,0.0001))\n"
   ]
  },
  {
   "cell_type": "code",
   "execution_count": 12,
   "metadata": {},
   "outputs": [
    {
     "name": "stdout",
     "output_type": "stream",
     "text": [
      "201\n",
      "[[0, 0, 0, 0, 0], [2.0, 2.0, 2.0, 12.0, 12.0], [5.8, 5.8, 15.299999999999999, 25.299999999999997, 25.299999999999997], [13.02, 22.044999999999998, 31.544999999999995, 41.544999999999995, 41.544999999999995], [35.311749999999996, 44.336749999999995, 53.836749999999995, 63.836749999999995, 63.836749999999995], [77.66607499999998, 86.69107499999998, 96.19107499999998, 106.19107499999998, 106.19107499999998], [158.13929249999995, 167.16429249999996, 176.66429249999996, 186.66429249999996, 186.66429249999996], [311.0384057499999, 320.0634057499999, 329.5634057499999, 339.5634057499999, 339.5634057499999], [601.5467209249998, 610.5717209249998, 620.0717209249998, 630.0717209249998, 630.0717209249998], [1153.5125197574996, 1162.5375197574995, 1172.0375197574995, 1182.0375197574995, 1182.0375197574995], [2202.2475375392487, 2211.2725375392492, 2220.7725375392492, 2230.7725375392492, 2230.7725375392492], [4194.844071324573, 4203.869071324572, 4213.369071324572, 4223.369071324572, 4223.369071324572], [7980.777485516687, 7989.802485516688, 7999.302485516688, 8009.302485516688, 8009.302485516688], [15174.050972481706, 15183.075972481705, 15192.575972481705, 15202.575972481705, 15202.575972481705], [28841.27059771524, 28850.295597715238, 28859.795597715238, 28869.795597715238, 28869.795597715238], [54808.98788565895, 54818.01288565895, 54827.51288565895, 54837.51288565895, 54837.51288565895], [104147.650732752, 104156.675732752, 104166.175732752, 104176.175732752, 104176.175732752], [197891.11014222878, 197900.1351422288, 197909.6351422288, 197919.6351422288, 197919.6351422288], [376003.6830202347, 376012.7080202347, 376022.2080202347, 376032.2080202347, 376032.2080202347], [714417.5714884459, 714426.5964884459, 714436.0964884459, 714446.0964884459, 714446.0964884459], [1357403.959578047, 1357412.984578047, 1357422.484578047, 1357432.484578047, 1357432.484578047], [2579078.0969482893, 2579087.121948289, 2579096.621948289, 2579106.621948289, 2579106.621948289], [4900258.957951749, 4900267.982951749, 4900277.482951749, 4900287.482951749, 4900287.482951749], [9310502.593858322, 9310511.618858323, 9310521.118858323, 9310531.118858323, 9310531.118858323], [17689965.502080813, 17689974.52708081, 17689984.02708081, 17689994.02708081, 17689994.02708081], [33610945.02770354, 33610954.052703544, 33610963.552703544, 33610973.552703544, 33610973.552703544], [63860806.126386724, 63860815.15138672, 63860824.65138672, 63860834.65138672, 63860834.65138672], [121335542.21388477, 121335551.23888478, 121335560.73888478, 121335570.73888478, 121335570.73888478], [230537540.78013104, 230537549.80513108, 230537559.30513108, 230537569.30513108, 230537569.30513108], [438021338.055999, 438021347.080999, 438021356.580999, 438021366.580999, 438021366.580999], [832240552.880148, 832240561.905148, 832240571.405148, 832240581.405148, 832240581.405148], [1581257061.0460312, 1581257070.071031, 1581257079.571031, 1581257089.571031, 1581257089.571031], [3004388426.5612087, 3004388435.5862093, 3004388445.0862093, 3004388455.0862093, 3004388455.0862093], [5708338021.040047, 5708338030.065046, 5708338039.565046, 5708338049.565046, 5708338049.565046], [10845842250.549837, 10845842259.574837, 10845842269.074837, 10845842279.074837, 10845842279.074837], [20607100286.61844, 20607100295.64344, 20607100305.14344, 20607100315.14344, 20607100315.14344], [39153490555.14879, 39153490564.17378, 39153490573.67378, 39153490583.67378, 39153490583.67378], [74391632065.35645, 74391632074.38144, 74391632083.88144, 74391632093.88144, 74391632093.88144], [141344100934.75098, 141344100943.776, 141344100953.276, 141344100963.276, 141344100963.276], [268553791786.60062, 268553791795.6256, 268553791805.1256, 268553791815.1256, 268553791815.1256], [510252204405.11487, 510252204414.1399, 510252204423.6399, 510252204433.6399, 510252204433.6399], [969479188380.292, 969479188389.317, 969479188398.817, 969479188408.817, 969479188408.817], [1842010457933.1284, 1842010457942.1533, 1842010457951.6533, 1842010457961.6533, 1842010457961.6533], [3499819870083.5176, 3499819870092.5425, 3499819870102.0425, 3499819870112.0425, 3499819870112.0425], [6649657753169.256, 6649657753178.281, 6649657753187.781, 6649657753197.781, 6649657753197.781], [12634349731032.16, 12634349731041.184, 12634349731050.684, 12634349731060.684, 12634349731060.684], [24005264488971.67, 24005264488980.7, 24005264488990.2, 24005264489000.2, 24005264489000.2], [45610002529056.75, 45610002529065.77, 45610002529075.27, 45610002529085.27, 45610002529085.27], [86659004805218.4, 86659004805227.42, 86659004805236.92, 86659004805246.92, 86659004805246.92], [164652109129925.53, 164652109129934.56, 164652109129944.06, 164652109129954.06, 164652109129954.06], [312839007346869.06, 312839007346878.1, 312839007346887.6, 312839007346897.6, 312839007346897.6], [594394113959061.8, 594394113959070.9, 594394113959080.4, 594394113959090.4, 594394113959090.4], [1129348816522228.0, 1129348816522237.0, 1129348816522246.5, 1129348816522256.5, 1129348816522256.5], [2145762751392243.5, 2145762751392252.5, 2145762751392262.0, 2145762751392272.0, 2145762751392272.0], [4076949227645273.0, 4076949227645282.0, 4076949227645291.5, 4076949227645301.5, 4076949227645301.5], [7746203532526028.0, 7746203532526038.0, 7746203532526047.0, 7746203532526057.0, 7746203532526057.0], [1.4717786711799464e+16, 1.4717786711799472e+16, 1.4717786711799482e+16, 1.4717786711799492e+16, 1.4717786711799492e+16], [2.796379475241899e+16, 2.7963794752419e+16, 2.796379475241901e+16, 2.7963794752419016e+16, 2.7963794752419016e+16], [5.313121002959609e+16, 5.31312100295961e+16, 5.3131210029596104e+16, 5.313121002959611e+16, 5.313121002959611e+16], [1.0094929905623258e+17, 1.0094929905623258e+17, 1.0094929905623258e+17, 1.0094929905623259e+17, 1.0094929905623259e+17], [1.918036682068419e+17, 1.918036682068419e+17, 1.9180366820684192e+17, 1.9180366820684192e+17, 1.9180366820684192e+17], [3.6442696959299955e+17, 3.6442696959299955e+17, 3.6442696959299955e+17, 3.6442696959299955e+17, 3.6442696959299955e+17], [6.924112422266991e+17, 6.924112422266991e+17, 6.924112422266991e+17, 6.924112422266991e+17, 6.924112422266991e+17], [1.3155813602307282e+18, 1.3155813602307282e+18, 1.3155813602307282e+18, 1.3155813602307282e+18, 1.3155813602307282e+18], [2.4996045844383836e+18, 2.4996045844383836e+18, 2.4996045844383836e+18, 2.4996045844383836e+18, 2.4996045844383836e+18], [4.749248710432929e+18, 4.749248710432929e+18, 4.749248710432929e+18, 4.749248710432929e+18, 4.749248710432929e+18], [9.023572549822564e+18, 9.023572549822564e+18, 9.023572549822564e+18, 9.023572549822564e+18, 9.023572549822564e+18], [1.7144787844662872e+19, 1.7144787844662872e+19, 1.7144787844662872e+19, 1.7144787844662872e+19, 1.7144787844662872e+19], [3.2575096904859455e+19, 3.2575096904859455e+19, 3.2575096904859455e+19, 3.2575096904859455e+19, 3.2575096904859455e+19], [6.189268411923296e+19, 6.189268411923296e+19, 6.189268411923296e+19, 6.189268411923296e+19, 6.189268411923296e+19], [1.1759609982654262e+20, 1.1759609982654262e+20, 1.1759609982654262e+20, 1.1759609982654262e+20, 1.1759609982654262e+20], [2.2343258967043097e+20, 2.2343258967043097e+20, 2.2343258967043097e+20, 2.2343258967043097e+20, 2.2343258967043097e+20], [4.245219203738188e+20, 4.245219203738188e+20, 4.245219203738188e+20, 4.245219203738188e+20, 4.245219203738188e+20], [8.065916487102557e+20, 8.065916487102557e+20, 8.065916487102557e+20, 8.065916487102557e+20, 8.065916487102557e+20], [1.5325241325494857e+21, 1.5325241325494857e+21, 1.5325241325494857e+21, 1.5325241325494857e+21, 1.5325241325494857e+21], [2.9117958518440224e+21, 2.9117958518440224e+21, 2.9117958518440224e+21, 2.9117958518440224e+21, 2.9117958518440224e+21], [5.532412118503643e+21, 5.532412118503643e+21, 5.532412118503643e+21, 5.532412118503643e+21, 5.532412118503643e+21], [1.051158302515692e+22, 1.051158302515692e+22, 1.051158302515692e+22, 1.051158302515692e+22, 1.051158302515692e+22], [1.997200774779815e+22, 1.997200774779815e+22, 1.997200774779815e+22, 1.997200774779815e+22, 1.997200774779815e+22], [3.794681472081648e+22, 3.794681472081648e+22, 3.794681472081648e+22, 3.794681472081648e+22, 3.794681472081648e+22], [7.209894796955131e+22, 7.209894796955131e+22, 7.209894796955131e+22, 7.209894796955131e+22, 7.209894796955131e+22], [1.3698800114214748e+23, 1.3698800114214748e+23, 1.3698800114214748e+23, 1.3698800114214748e+23, 1.3698800114214748e+23], [2.602772021700802e+23, 2.602772021700802e+23, 2.602772021700802e+23, 2.602772021700802e+23, 2.602772021700802e+23], [4.945266841231524e+23, 4.945266841231524e+23, 4.945266841231524e+23, 4.945266841231524e+23, 4.945266841231524e+23], [9.396006998339895e+23, 9.396006998339895e+23, 9.396006998339895e+23, 9.396006998339895e+23, 9.396006998339895e+23], [1.78524132968458e+24, 1.78524132968458e+24, 1.78524132968458e+24, 1.78524132968458e+24, 1.78524132968458e+24], [3.3919585264007016e+24, 3.3919585264007016e+24, 3.3919585264007016e+24, 3.3919585264007016e+24, 3.3919585264007016e+24], [6.444721200161333e+24, 6.444721200161333e+24, 6.444721200161333e+24, 6.444721200161333e+24, 6.444721200161333e+24], [1.224497028030653e+25, 1.224497028030653e+25, 1.224497028030653e+25, 1.224497028030653e+25, 1.224497028030653e+25], [2.3265443532582406e+25, 2.3265443532582406e+25, 2.3265443532582406e+25, 2.3265443532582406e+25, 2.3265443532582406e+25], [4.420434271190657e+25, 4.420434271190657e+25, 4.420434271190657e+25, 4.420434271190657e+25, 4.420434271190657e+25], [8.398825115262249e+25, 8.398825115262249e+25, 8.398825115262249e+25, 8.398825115262249e+25, 8.398825115262249e+25], [1.595776771899827e+26, 1.595776771899827e+26, 1.595776771899827e+26, 1.595776771899827e+26, 1.595776771899827e+26], [3.0319758666096714e+26, 3.0319758666096714e+26, 3.0319758666096714e+26, 3.0319758666096714e+26, 3.0319758666096714e+26], [5.7607541465583754e+26, 5.7607541465583754e+26, 5.7607541465583754e+26, 5.7607541465583754e+26, 5.7607541465583754e+26], [1.0945432878460913e+27, 1.0945432878460913e+27, 1.0945432878460913e+27, 1.0945432878460913e+27, 1.0945432878460913e+27], [2.0796322469075733e+27, 2.0796322469075733e+27, 2.0796322469075733e+27, 2.0796322469075733e+27, 2.0796322469075733e+27], [3.951301269124389e+27, 3.951301269124389e+27, 3.951301269124389e+27, 3.951301269124389e+27, 3.951301269124389e+27], [7.507472411336339e+27, 7.507472411336339e+27, 7.507472411336339e+27, 7.507472411336339e+27, 7.507472411336339e+27], [1.4264197581539043e+28, 1.4264197581539043e+28, 1.4264197581539043e+28, 1.4264197581539043e+28, 1.4264197581539043e+28], [2.710197540492418e+28, 2.710197540492418e+28, 2.710197540492418e+28, 2.710197540492418e+28, 2.710197540492418e+28], [5.1493753269355934e+28, 5.1493753269355934e+28, 5.1493753269355934e+28, 5.1493753269355934e+28, 5.1493753269355934e+28], [9.783813121177628e+28, 9.783813121177628e+28, 9.783813121177628e+28, 9.783813121177628e+28, 9.783813121177628e+28], [1.858924493023749e+29, 1.858924493023749e+29, 1.858924493023749e+29, 1.858924493023749e+29, 1.858924493023749e+29], [3.531956536745123e+29, 3.531956536745123e+29, 3.531956536745123e+29, 3.531956536745123e+29, 3.531956536745123e+29], [6.710717419815733e+29, 6.710717419815733e+29, 6.710717419815733e+29, 6.710717419815733e+29, 6.710717419815733e+29], [1.2750363097649892e+30, 1.2750363097649892e+30, 1.2750363097649892e+30, 1.2750363097649892e+30, 1.2750363097649892e+30], [2.4225689885534796e+30, 2.4225689885534796e+30, 2.4225689885534796e+30, 2.4225689885534796e+30, 2.4225689885534796e+30], [4.602881078251611e+30, 4.602881078251611e+30, 4.602881078251611e+30, 4.602881078251611e+30, 4.602881078251611e+30], [8.745474048678061e+30, 8.745474048678061e+30, 8.745474048678061e+30, 8.745474048678061e+30, 8.745474048678061e+30], [1.6616400692488315e+31, 1.6616400692488315e+31, 1.6616400692488315e+31, 1.6616400692488315e+31, 1.6616400692488315e+31], [3.1571161315727796e+31, 3.1571161315727796e+31, 3.1571161315727796e+31, 3.1571161315727796e+31, 3.1571161315727796e+31], [5.998520649988281e+31, 5.998520649988281e+31, 5.998520649988281e+31, 5.998520649988281e+31, 5.998520649988281e+31], [1.1397189234977732e+32, 1.1397189234977732e+32, 1.1397189234977732e+32, 1.1397189234977732e+32, 1.1397189234977732e+32], [2.165465954645769e+32, 2.165465954645769e+32, 2.165465954645769e+32, 2.165465954645769e+32, 2.165465954645769e+32], [4.1143853138269605e+32, 4.1143853138269605e+32, 4.1143853138269605e+32, 4.1143853138269605e+32, 4.1143853138269605e+32], [7.817332096271224e+32, 7.817332096271224e+32, 7.817332096271224e+32, 7.817332096271224e+32, 7.817332096271224e+32], [1.4852930982915324e+33, 1.4852930982915324e+33, 1.4852930982915324e+33, 1.4852930982915324e+33, 1.4852930982915324e+33], [2.8220568867539115e+33, 2.8220568867539115e+33, 2.8220568867539115e+33, 2.8220568867539115e+33, 2.8220568867539115e+33], [5.361908084832431e+33, 5.361908084832431e+33, 5.361908084832431e+33, 5.361908084832431e+33, 5.361908084832431e+33], [1.018762536118162e+34, 1.018762536118162e+34, 1.018762536118162e+34, 1.018762536118162e+34, 1.018762536118162e+34], [1.9356488186245076e+34, 1.9356488186245076e+34, 1.9356488186245076e+34, 1.9356488186245076e+34, 1.9356488186245076e+34], [3.677732755386564e+34, 3.677732755386564e+34, 3.677732755386564e+34, 3.677732755386564e+34, 3.677732755386564e+34], [6.987692235234471e+34, 6.987692235234471e+34, 6.987692235234471e+34, 6.987692235234471e+34, 6.987692235234471e+34], [1.3276615246945494e+35, 1.3276615246945494e+35, 1.3276615246945494e+35, 1.3276615246945494e+35, 1.3276615246945494e+35], [2.5225568969196437e+35, 2.5225568969196437e+35, 2.5225568969196437e+35, 2.5225568969196437e+35, 2.5225568969196437e+35], [4.7928581041473226e+35, 4.7928581041473226e+35, 4.7928581041473226e+35, 4.7928581041473226e+35, 4.7928581041473226e+35], [9.106430397879913e+35, 9.106430397879913e+35, 9.106430397879913e+35, 9.106430397879913e+35, 9.106430397879913e+35], [1.7302217755971835e+36, 1.7302217755971835e+36, 1.7302217755971835e+36, 1.7302217755971835e+36, 1.7302217755971835e+36], [3.287421373634649e+36, 3.287421373634649e+36, 3.287421373634649e+36, 3.287421373634649e+36, 3.287421373634649e+36], [6.246100609905832e+36, 6.246100609905832e+36, 6.246100609905832e+36, 6.246100609905832e+36, 6.246100609905832e+36], [1.1867591158821081e+37, 1.1867591158821081e+37, 1.1867591158821081e+37, 1.1867591158821081e+37, 1.1867591158821081e+37], [2.254842320176005e+37, 2.254842320176005e+37, 2.254842320176005e+37, 2.254842320176005e+37, 2.254842320176005e+37], [4.28420040833441e+37, 4.28420040833441e+37, 4.28420040833441e+37, 4.28420040833441e+37, 4.28420040833441e+37], [8.139980775835378e+37, 8.139980775835378e+37, 8.139980775835378e+37, 8.139980775835378e+37, 8.139980775835378e+37], [1.5465963474087216e+38, 1.5465963474087216e+38, 1.5465963474087216e+38, 1.5465963474087216e+38, 1.5465963474087216e+38], [2.938533060076571e+38, 2.938533060076571e+38, 2.938533060076571e+38, 2.938533060076571e+38, 2.938533060076571e+38], [5.583212814145485e+38, 5.583212814145485e+38, 5.583212814145485e+38, 5.583212814145485e+38, 5.583212814145485e+38], [1.0608104346876421e+39, 1.0608104346876421e+39, 1.0608104346876421e+39, 1.0608104346876421e+39, 1.0608104346876421e+39], [2.01553982590652e+39, 2.01553982590652e+39, 2.01553982590652e+39, 2.01553982590652e+39, 2.01553982590652e+39], [3.829525669222388e+39, 3.829525669222388e+39, 3.829525669222388e+39, 3.829525669222388e+39, 3.829525669222388e+39], [7.276098771522537e+39, 7.276098771522537e+39, 7.276098771522537e+39, 7.276098771522537e+39, 7.276098771522537e+39], [1.382458766589282e+40, 1.382458766589282e+40, 1.382458766589282e+40, 1.382458766589282e+40, 1.382458766589282e+40], [2.6266716565196355e+40, 2.6266716565196355e+40, 2.6266716565196355e+40, 2.6266716565196355e+40, 2.6266716565196355e+40], [4.990676147387307e+40, 4.990676147387307e+40, 4.990676147387307e+40, 4.990676147387307e+40, 4.990676147387307e+40], [9.482284680035883e+40, 9.482284680035883e+40, 9.482284680035883e+40, 9.482284680035883e+40, 9.482284680035883e+40], [1.801634089206818e+41, 1.801634089206818e+41, 1.801634089206818e+41, 1.801634089206818e+41, 1.801634089206818e+41], [3.423104769492954e+41, 3.423104769492954e+41, 3.423104769492954e+41, 3.423104769492954e+41, 3.423104769492954e+41], [6.503899062036612e+41, 6.503899062036612e+41, 6.503899062036612e+41, 6.503899062036612e+41, 6.503899062036612e+41], [1.2357408217869562e+42, 1.2357408217869562e+42, 1.2357408217869562e+42, 1.2357408217869562e+42, 1.2357408217869562e+42], [2.3479075613952167e+42, 2.3479075613952167e+42, 2.3479075613952167e+42, 2.3479075613952167e+42, 2.3479075613952167e+42], [4.4610243666509116e+42, 4.4610243666509116e+42, 4.4610243666509116e+42, 4.4610243666509116e+42, 4.4610243666509116e+42], [8.475946296636732e+42, 8.475946296636732e+42, 8.475946296636732e+42, 8.475946296636732e+42, 8.475946296636732e+42], [1.610429796360979e+43, 1.610429796360979e+43, 1.610429796360979e+43, 1.610429796360979e+43, 1.610429796360979e+43], [3.05981661308586e+43, 3.05981661308586e+43, 3.05981661308586e+43, 3.05981661308586e+43, 3.05981661308586e+43], [5.813651564863134e+43, 5.813651564863134e+43, 5.813651564863134e+43, 5.813651564863134e+43, 5.813651564863134e+43], [1.1045937973239954e+44, 1.1045937973239954e+44, 1.1045937973239954e+44, 1.1045937973239954e+44, 1.1045937973239954e+44], [2.0987282149155913e+44, 2.0987282149155913e+44, 2.0987282149155913e+44, 2.0987282149155913e+44, 2.0987282149155913e+44], [3.987583608339623e+44, 3.987583608339623e+44, 3.987583608339623e+44, 3.987583608339623e+44, 3.987583608339623e+44], [7.576408855845284e+44, 7.576408855845284e+44, 7.576408855845284e+44, 7.576408855845284e+44, 7.576408855845284e+44], [1.439517682610604e+45, 1.439517682610604e+45, 1.439517682610604e+45, 1.439517682610604e+45, 1.439517682610604e+45], [2.7350835969601475e+45, 2.7350835969601475e+45, 2.7350835969601475e+45, 2.7350835969601475e+45, 2.7350835969601475e+45], [5.19665883422428e+45, 5.19665883422428e+45, 5.19665883422428e+45, 5.19665883422428e+45, 5.19665883422428e+45], [9.873651785026131e+45, 9.873651785026131e+45, 9.873651785026131e+45, 9.873651785026131e+45, 9.873651785026131e+45], [1.8759938391549649e+46, 1.8759938391549649e+46, 1.8759938391549649e+46, 1.8759938391549649e+46, 1.8759938391549649e+46], [3.564388294394433e+46, 3.564388294394433e+46, 3.564388294394433e+46, 3.564388294394433e+46, 3.564388294394433e+46], [6.772337759349422e+46, 6.772337759349422e+46, 6.772337759349422e+46, 6.772337759349422e+46, 6.772337759349422e+46], [1.2867441742763901e+47, 1.2867441742763901e+47, 1.2867441742763901e+47, 1.2867441742763901e+47, 1.2867441742763901e+47], [2.4448139311251413e+47, 2.4448139311251413e+47, 2.4448139311251413e+47, 2.4448139311251413e+47, 2.4448139311251413e+47], [4.645146469137768e+47, 4.645146469137768e+47, 4.645146469137768e+47, 4.645146469137768e+47, 4.645146469137768e+47], [8.82577829136176e+47, 8.82577829136176e+47, 8.82577829136176e+47, 8.82577829136176e+47, 8.82577829136176e+47], [1.6768978753587344e+48, 1.6768978753587344e+48, 1.6768978753587344e+48, 1.6768978753587344e+48, 1.6768978753587344e+48], [3.186105963181595e+48, 3.186105963181595e+48, 3.186105963181595e+48, 3.186105963181595e+48, 3.186105963181595e+48], [6.05360133004503e+48, 6.05360133004503e+48, 6.05360133004503e+48, 6.05360133004503e+48, 6.05360133004503e+48], [1.1501842527085558e+49, 1.1501842527085558e+49, 1.1501842527085558e+49, 1.1501842527085558e+49, 1.1501842527085558e+49], [2.185350080146256e+49, 2.185350080146256e+49, 2.185350080146256e+49, 2.185350080146256e+49, 2.185350080146256e+49], [4.152165152277886e+49, 4.152165152277886e+49, 4.152165152277886e+49, 4.152165152277886e+49, 4.152165152277886e+49], [7.889113789327983e+49, 7.889113789327983e+49, 7.889113789327983e+49, 7.889113789327983e+49, 7.889113789327983e+49], [1.4989316199723167e+50, 1.4989316199723167e+50, 1.4989316199723167e+50, 1.4989316199723167e+50, 1.4989316199723167e+50], [2.8479700779474017e+50, 2.8479700779474017e+50, 2.8479700779474017e+50, 2.8479700779474017e+50, 2.8479700779474017e+50], [5.411143148100063e+50, 5.411143148100063e+50, 5.411143148100063e+50, 5.411143148100063e+50, 5.411143148100063e+50], [1.0281171981390119e+51, 1.0281171981390119e+51, 1.0281171981390119e+51, 1.0281171981390119e+51, 1.0281171981390119e+51], [1.9534226764641224e+51, 1.9534226764641224e+51, 1.9534226764641224e+51, 1.9534226764641224e+51, 1.9534226764641224e+51], [3.711503085281832e+51, 3.711503085281832e+51, 3.711503085281832e+51, 3.711503085281832e+51, 3.711503085281832e+51], [7.051855862035481e+51, 7.051855862035481e+51, 7.051855862035481e+51, 7.051855862035481e+51, 7.051855862035481e+51], [1.3398526137867413e+52, 1.3398526137867413e+52, 1.3398526137867413e+52, 1.3398526137867413e+52, 1.3398526137867413e+52], [2.5457199661948083e+52, 2.5457199661948083e+52, 2.5457199661948083e+52, 2.5457199661948083e+52, 2.5457199661948083e+52], [4.836867935770136e+52, 4.836867935770136e+52, 4.836867935770136e+52, 4.836867935770136e+52, 4.836867935770136e+52], [9.190049077963257e+52, 9.190049077963257e+52, 9.190049077963257e+52, 9.190049077963257e+52, 9.190049077963257e+52], [1.7461093248130188e+53, 1.7461093248130188e+53, 1.7461093248130188e+53, 1.7461093248130188e+53, 1.7461093248130188e+53], [3.3176077171447354e+53, 3.3176077171447354e+53, 3.3176077171447354e+53, 3.3176077171447354e+53, 3.3176077171447354e+53], [6.303454662574997e+53, 6.303454662574997e+53, 6.303454662574997e+53, 6.303454662574997e+53, 6.303454662574997e+53], [1.1976563858892493e+54, 1.1976563858892493e+54, 1.1976563858892493e+54, 1.1976563858892493e+54, 1.1976563858892493e+54], [2.2755471331895736e+54, 2.2755471331895736e+54, 2.2755471331895736e+54, 2.2755471331895736e+54, 2.2755471331895736e+54], [4.3235395530601894e+54, 4.3235395530601894e+54, 4.3235395530601894e+54, 4.3235395530601894e+54, 4.3235395530601894e+54], [8.21472515081436e+54, 8.21472515081436e+54, 8.21472515081436e+54, 8.21472515081436e+54, 8.21472515081436e+54], [1.560797778654728e+55, 1.560797778654728e+55, 1.560797778654728e+55, 1.560797778654728e+55, 1.560797778654728e+55], [2.9655157794439834e+55, 2.9655157794439834e+55, 2.9655157794439834e+55, 2.9655157794439834e+55, 2.9655157794439834e+55], [5.634479980943569e+55, 5.634479980943569e+55, 5.634479980943569e+55, 5.634479980943569e+55, 5.634479980943569e+55], [1.070551196379278e+56, 1.070551196379278e+56, 1.070551196379278e+56, 1.070551196379278e+56, 1.070551196379278e+56], [2.0340472731206283e+56, 2.0340472731206283e+56, 2.0340472731206283e+56, 2.0340472731206283e+56, 2.0340472731206283e+56]]\n"
     ]
    }
   ],
   "source": [
    "#find optimal Q value using Q-learning\n",
    "\n",
    "from copy import deepcopy\n",
    "\n",
    "\n",
    "vgrid = [0,0,0,0,0] #Should be 0 for all states before first iteration\n",
    "rgrid =[2,0,0,0,10] #rewards for states in chain environment\n",
    "\n",
    "actions = [\"a\",\"b\"] #all actions are possible in every state\n",
    "\n",
    "\n",
    "\n",
    "#function for one iteration of the values of the grid. Returns next grid\n",
    "def Iterate(vgrid,rgrid, p, gamma):\n",
    "    gridcopy = [0 for i in range(len(vgrid))]\n",
    "    for state in range(len(vgrid)):\n",
    "        points = [0]*len(actions)\n",
    "        for a in actions:\n",
    "            if a == \"a\":\n",
    "                if state == len(vgrid)-1:\n",
    "                    points[0]=p*(rgrid[state] + gamma*vgrid[state])+(1-p)*(rgrid[state] + gamma*vgrid[state])\n",
    "                else:\n",
    "                    points[0]=p*(rgrid[state+1] + gamma*vgrid[state+1])+(1-p)*(rgrid[state] + gamma*vgrid[state])\n",
    "            if a == \"b\":\n",
    "                points[1]=p*(rgrid[0] + gamma*vgrid[0])+(1-p)*(rgrid[state] + gamma*vgrid[state])\n",
    "        gridcopy[state]=sum(points) \n",
    "    vgrid = deepcopy(gridcopy)\n",
    "    return vgrid\n",
    "\n",
    "#function for iterating until the differene between state and next state becomes smaller than value epsilon. Returns optimal value function at convergence\n",
    "def Qvalues(vgrid,rgrid, eps):\n",
    "    listOfQ = []\n",
    "    i = 0\n",
    "    done = False\n",
    "    while not done:\n",
    "        listOfQ.append(vgrid)\n",
    "        prev_vgrid=deepcopy(vgrid)\n",
    "        vgrid = deepcopy(Iterate(vgrid,rgrid,1,0.95)) #we assume probability 1 since nothing is mentioned about the probability. We assume gamma = 0.95 since it was 0.95 in Q3\n",
    "        #print(vgrid)\n",
    "        delta = []\n",
    "        #check change of values for every state\n",
    "        for state in range(len(vgrid)):\n",
    "            delta.append(abs(vgrid[state]-prev_vgrid[state]))\n",
    "        if(i == 200): #we define that the value grid has converged when its change each iteration is less than eps\n",
    "            done = True\n",
    "        i = i + 1\n",
    "    return listOfQ\n",
    "\n",
    "print(len(Qvalues(vgrid,rgrid,0.1)))\n",
    "print(Qvalues(vgrid,rgrid,0.1))\n"
   ]
  },
  {
   "cell_type": "markdown",
   "metadata": {},
   "source": [
    "### Question 4 reasoning \n",
    "\n",
    "#### 4 A) \n",
    "\n",
    "Assuming gamma = 0.95.\n",
    "\n",
    "We interpreted the question as to the probability being 1. This gave us the following optimal value: <br>\n",
    "[171.39, 180.41, 189.91, 199.91, 199.91]. \n",
    "\n",
    "If we were to use the same probabilty as instructed in question 2 (0.8) we get the following optimal value: <br>\n",
    "[163.58, 173.82, 185.26, 197.45, 199.91]\n",
    "\n",
    "\n",
    "#### 4 B)\n",
    "\n",
    "The importance of exploration in reinforcement learning can be described as the importance to look further ahead. For an example if we were studying mice following a maze where in each turn the mouse can either go left or right. The mice will probably choose the path in which there is a piece of cheese laying (the reward). However what if that is the only piece of cheese there is going further along that path? If instead we could program mice to sometimes (say maybe 10% exploration) take the other path. Along this path there are several more rewards layin along the trail. If the mouse wasn't programmed to sometimes explore a little, the mouse would probably always take the path which immediatly gives an reward. After some time the mouse would (hopefully) learn to take the other path since it's more rewarding in the long run.  "
   ]
  },
  {
   "cell_type": "markdown",
   "metadata": {},
   "source": [
    "## Question 5 (1 point)\n",
    "\n",
    "Briefly discuss the k-armed bandit problem formulation and it's distinguishing feature as a special case of the reinforcement learning problem formulation."
   ]
  },
  {
   "cell_type": "markdown",
   "metadata": {},
   "source": [
    "### Answer Quesion 5 \n",
    "\n",
    "The k-armed bandit problem comes initially from a gambler who tries do decide which slot machine to play on (armed bandits). The problem entails the trade off between exploration and exploitaition. In this problem the gambler has to choose which slot machine to play on. Each slot machine has a probability of giving a reward (getting 3 in a row). The gambler then has to decide wheter to keep playing on the machine his already playing on (exploitaition) or to use another machine (exploration) to be able to maximise his profits. This tradeoff has to be calculated since the gambler wants to maximise his profits, exploring a new machine could end in a loss but also gives new knowledge in regards to this new machine and the machines hes already played. By using his prior knowledge and adding in exploration the gambler wants to calculate the perfect tradeoff between exploitation and exploration; which machines to play and how many times he should pull the lever on the armed bandit."
   ]
  },
  {
   "cell_type": "markdown",
   "metadata": {},
   "source": [
    "## Note\n",
    "\n",
    "* Until now, we have described algorithms for when no. of states and actions are finite. In coming weeks, you will be taught how to extend these methods to continous state enviroments like ATARI games.\n",
    "\n",
    "# References\n",
    "Primer/text based on the following references:\n",
    "* http://www.cse.chalmers.se/~chrdimi/downloads/book.pdf\n",
    "* https://github.com/olethrosdc/ml-society-science/blob/master/notes.pdf"
   ]
  }
 ],
 "metadata": {
  "kernelspec": {
   "display_name": "Python 3",
   "language": "python",
   "name": "python3"
  },
  "language_info": {
   "codemirror_mode": {
    "name": "ipython",
    "version": 3
   },
   "file_extension": ".py",
   "mimetype": "text/x-python",
   "name": "python",
   "nbconvert_exporter": "python",
   "pygments_lexer": "ipython3",
   "version": "3.9.7"
  }
 },
 "nbformat": 4,
 "nbformat_minor": 2
}
